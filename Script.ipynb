{
 "cells": [
  {
   "cell_type": "markdown",
   "id": "38a6e6d7",
   "metadata": {},
   "source": [
    "The World Bank's international debt data\n",
    "\n",
    "In this notebook, we are going to analyze international debt data collected by The World Bank. The dataset contains information about the amount of debt (in USD) owed by developing countries across several categories. We are going to find the answers to questions like:\n",
    "\n",
    "What is the total amount of debt that is owed by the countries listed in the dataset?\n",
    "Which country owns the maximum amount of debt and what does that amount look like?\n",
    "What is the average amount of debt owed by countries across different debt indicators?\n",
    "\n",
    "The first line of code connects us to the international_debt database where the table international_debt is residing. \n"
   ]
  },
  {
   "cell_type": "code",
   "execution_count": 1,
   "id": "cd078968",
   "metadata": {},
   "outputs": [
    {
     "name": "stderr",
     "output_type": "stream",
     "text": [
      "UsageError: Cell magic `%%sql` not found.\n"
     ]
    }
   ],
   "source": [
    "%%sql\n",
    "postgresql:///international_debt\n",
    "SELECT *\n",
    "FROM\n",
    " international_debt\n",
    "LIMIT 10;\n"
   ]
  },
  {
   "cell_type": "markdown",
   "id": "aa2f2b77",
   "metadata": {},
   "source": [
    "Finding the number of distinct countries\n",
    "From the first ten rows, we can see the amount of debt owed by Afghanistan in the different debt indicators. But we do not know the number of different countries we have on the table. There are repetitions in the country names because a country is most likely to have debt in more than one debt indicator."
   ]
  },
  {
   "cell_type": "code",
   "execution_count": 1,
   "id": "de36bf9e",
   "metadata": {},
   "outputs": [
    {
     "name": "stderr",
     "output_type": "stream",
     "text": [
      "UsageError: Cell magic `%%sql` not found.\n"
     ]
    }
   ],
   "source": [
    "%%sql\n",
    "SELECT \n",
    "    COUNT(DISTINCT country_name) AS total_distinct_countries\n",
    "FROM international_debt;"
   ]
  },
  {
   "cell_type": "markdown",
   "id": "e4f4b169",
   "metadata": {},
   "source": [
    "Finding out the distinct debt indicators"
   ]
  },
  {
   "cell_type": "code",
   "execution_count": null,
   "id": "64bf0e01",
   "metadata": {},
   "outputs": [],
   "source": [
    "%%sql \n",
    "SELECT \n",
    "    DISTINCT indicator_code AS distinct_debt_indicators\n",
    "FROM international_debt\n",
    "ORDER BY distinct_debt_indicators;"
   ]
  },
  {
   "cell_type": "markdown",
   "id": "a2eb1738",
   "metadata": {},
   "source": [
    "Totaling the amount of debt owed by the countries"
   ]
  },
  {
   "cell_type": "code",
   "execution_count": null,
   "id": "766dc3e2",
   "metadata": {},
   "outputs": [],
   "source": [
    "%%sql\n",
    "SELECT \n",
    "    ROUND(SUM(debt/1000000), 2) AS total_debt\n",
    "FROM international_debt; "
   ]
  },
  {
   "cell_type": "markdown",
   "id": "aed2900c",
   "metadata": {},
   "source": [
    "Country with the highest debt"
   ]
  },
  {
   "cell_type": "code",
   "execution_count": null,
   "id": "280724b8",
   "metadata": {},
   "outputs": [],
   "source": [
    "%%sql\n",
    "SELECT \n",
    "    country_name, \n",
    "    SUM(debt) AS total_debt\n",
    "FROM international_debt\n",
    "GROUP BY country_name\n",
    "ORDER BY total_debt DESC\n",
    "LIMIT 1;"
   ]
  },
  {
   "cell_type": "code",
   "execution_count": null,
   "id": "531f046d",
   "metadata": {},
   "outputs": [],
   "source": [
    "Average amount of debt across indicators"
   ]
  },
  {
   "cell_type": "code",
   "execution_count": null,
   "id": "5154dd6e",
   "metadata": {},
   "outputs": [],
   "source": [
    "%%sql\n",
    "SELECT \n",
    "    indicator_code AS debt_indicator,\n",
    "    indicator_name,\n",
    "    AVG(debt) AS average_debt\n",
    "FROM international_debt\n",
    "GROUP BY debt_indicator, indicator_name\n",
    "ORDER BY average_debt DESC\n",
    "LIMIT 10;"
   ]
  },
  {
   "cell_type": "markdown",
   "id": "24846fa5",
   "metadata": {},
   "source": [
    "The highest amount of principal repayments "
   ]
  },
  {
   "cell_type": "code",
   "execution_count": null,
   "id": "fbbf5fc4",
   "metadata": {},
   "outputs": [],
   "source": [
    "%%sql\n",
    "SELECT \n",
    "    country_name, \n",
    "    indicator_name\n",
    "FROM international_debt\n",
    "WHERE debt = (SELECT \n",
    "                  MAX(debt)\n",
    "              FROM international_debt\n",
    "              WHERE indicator_code='DT.AMT.DLXF.CD');"
   ]
  },
  {
   "cell_type": "markdown",
   "id": "e4a46be1",
   "metadata": {},
   "source": [
    "The most common debt indicator"
   ]
  },
  {
   "cell_type": "code",
   "execution_count": null,
   "id": "960c7ec6",
   "metadata": {},
   "outputs": [],
   "source": [
    "%%sql\n",
    "SELECT \n",
    "    indicator_code,\n",
    "    COUNT(indicator_code) AS indicator_count\n",
    "FROM international_debt\n",
    "GROUP BY indicator_code\n",
    "ORDER BY indicator_count DESC, indicator_code DESC\n",
    "LIMIT 20;\n"
   ]
  },
  {
   "cell_type": "markdown",
   "id": "d3886b1c",
   "metadata": {},
   "source": [
    "Other viable debt issues and conclusion, Let's change tracks from debt_indicators now and focus on the amount of debt again. Let's find out the maximum amount of debt that each country has. With this, we will be in a position to identify the other plausible economic issues a country might be going through."
   ]
  },
  {
   "cell_type": "code",
   "execution_count": null,
   "id": "0c59a5fe",
   "metadata": {},
   "outputs": [],
   "source": [
    "%%sql\n",
    "SELECT \n",
    "    country_name, \n",
    "    MAX(debt) AS maximum_debt\n",
    "FROM international_debt\n",
    "GROUP BY country_name\n",
    "ORDER BY maximum_debt DESC\n",
    "LIMIT 10;"
   ]
  }
 ],
 "metadata": {
  "kernelspec": {
   "display_name": "Python 3",
   "language": "python",
   "name": "python3"
  },
  "language_info": {
   "codemirror_mode": {
    "name": "ipython",
    "version": 3
   },
   "file_extension": ".py",
   "mimetype": "text/x-python",
   "name": "python",
   "nbconvert_exporter": "python",
   "pygments_lexer": "ipython3",
   "version": "3.8.8"
  }
 },
 "nbformat": 4,
 "nbformat_minor": 5
}
